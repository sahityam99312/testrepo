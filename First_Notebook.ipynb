{
 "cells": [
  {
   "cell_type": "markdown",
   "id": "6fbfe023-de5f-4cfd-be98-564ed9b905d6",
   "metadata": {
    "tags": []
   },
   "source": [
    "# Sahityam Surabhya Notebook"
   ]
  },
  {
   "cell_type": "markdown",
   "id": "e4a55090-c4ea-4aab-9755-384cabccd94c",
   "metadata": {},
   "source": [
    "## for documentation of python codes\n"
   ]
  },
  {
   "cell_type": "code",
   "execution_count": 3,
   "id": "01f923eb-3cfd-473f-9151-3d818bea1e78",
   "metadata": {},
   "outputs": [
    {
     "name": "stdout",
     "output_type": "stream",
     "text": [
      "4\n"
     ]
    }
   ],
   "source": [
    "a,b=1,3\n",
    "print(a+b)"
   ]
  },
  {
   "cell_type": "code",
   "execution_count": null,
   "id": "42a3ee3b-5046-486a-af72-6f1f0e556aac",
   "metadata": {},
   "outputs": [],
   "source": [
    "a,b,c="
   ]
  }
 ],
 "metadata": {
  "kernelspec": {
   "display_name": "Python",
   "language": "python",
   "name": "conda-env-python-py"
  },
  "language_info": {
   "codemirror_mode": {
    "name": "ipython",
    "version": 3
   },
   "file_extension": ".py",
   "mimetype": "text/x-python",
   "name": "python",
   "nbconvert_exporter": "python",
   "pygments_lexer": "ipython3",
   "version": "3.7.10"
  }
 },
 "nbformat": 4,
 "nbformat_minor": 5
}
